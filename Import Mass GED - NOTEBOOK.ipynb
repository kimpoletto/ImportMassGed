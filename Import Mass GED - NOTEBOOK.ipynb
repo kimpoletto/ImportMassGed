{
 "cells": [
  {
   "cell_type": "code",
   "execution_count": 1,
   "metadata": {},
   "outputs": [],
   "source": [
    "import os\n",
    "import pandas as pd\n",
    "import datetime"
   ]
  },
  {
   "cell_type": "code",
   "execution_count": 24,
   "metadata": {},
   "outputs": [],
   "source": [
    "#temas = 'Topografia, Boletim de Sondagem, Trajetório de desvio, Testeira, Desc. Geotecnica, Desc. Geológica, Densidade, Amostragem, Pedido de Análise, Certificado de análise, Susceptibilidade Magnética'\n",
    "#key = 'TOPOGRAPHIC SURVEY;DRILLHOLE;DRILLHOLE DEVIATION;DRILL CORE BOXES;DRILLHOLE LOG;GEOLOGICAL DESCRIPTION;DENSITY;SAMPLING;SAMPLE DESPATCH;ASSAY CERTIFICATE;MAGNETIC SUSCEPTIBILITY'\n",
    "\n",
    "nº_lote = 103\n",
    "_zip = f'Lote{nº_lote}Alemao.zip'\n",
    "temas = 'Topografia, Boletim de Sondagem, Desc. Geotecnica, Desc. Geológica, Densidade, Amostragem, Pedido de Análise, Certificado de análise'\n",
    "key = 'TOPOGRAPHIC SURVEY;DRILLHOLE;DRILLHOLE LOG;GEOLOGICAL DESCRIPTION;DENSITY;SAMPLING;SAMPLE DESPATCH;ASSAY CERTIFICATE'\n",
    "diretorio = f'C:\\\\Nova pasta\\\\Documents\\\\ImportMassaGED\\\\Furos\\\\Lote{nº_lote}Alemao'\n",
    "lista = []\n",
    "\n",
    "for root, dirs, files in os.walk(diretorio):\n",
    "    for arquivo in files:\n",
    "\n",
    "        d = arquivo[:arquivo.find('.')]\n",
    "        c = f'{d}: {temas}'\n",
    "        \n",
    "       \n",
    "      \n",
    "\n",
    "\n",
    "\n",
    "        lista.append([arquivo,_zip,c,d,key])\n",
    "\n",
    "\n",
    "\n",
    "\n",
    "df = pd.DataFrame(data=lista)\n",
    "df.columns = ['Filename','Storage Path','Title','File Name','Keywords Theme']\n",
    "df.to_excel(f'C:\\\\Nova pasta\\\\Documents\\\\ImportMassaGED\\\\Tabelas Lotes\\\\{_zip}.xls', index=False, encoding='utf8')"
   ]
  },
  {
   "cell_type": "markdown",
   "metadata": {},
   "source": []
  },
  {
   "cell_type": "code",
   "execution_count": null,
   "metadata": {},
   "outputs": [],
   "source": []
  }
 ],
 "metadata": {
  "kernelspec": {
   "display_name": "Python 3",
   "language": "python",
   "name": "python3"
  },
  "language_info": {
   "codemirror_mode": {
    "name": "ipython",
    "version": 3
   },
   "file_extension": ".py",
   "mimetype": "text/x-python",
   "name": "python",
   "nbconvert_exporter": "python",
   "pygments_lexer": "ipython3",
   "version": "3.8.5"
  }
 },
 "nbformat": 4,
 "nbformat_minor": 4
}
